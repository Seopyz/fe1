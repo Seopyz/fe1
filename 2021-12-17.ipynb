{
 "cells": [
  {
   "cell_type": "code",
   "execution_count": 11,
   "id": "32f1f028",
   "metadata": {},
   "outputs": [
    {
     "name": "stdout",
     "output_type": "stream",
     "text": [
      "5 6\n",
      "0.8333333333333334\n"
     ]
    }
   ],
   "source": [
    "a, b = input().split()\n",
    "print(float(a)/float(b))"
   ]
  },
  {
   "cell_type": "code",
   "execution_count": 5,
   "id": "c0aff5bd",
   "metadata": {},
   "outputs": [
    {
     "name": "stdout",
     "output_type": "stream",
     "text": [
      "5\n"
     ]
    }
   ],
   "source": [
    "a = input()"
   ]
  },
  {
   "cell_type": "code",
   "execution_count": 8,
   "id": "2784c37f",
   "metadata": {},
   "outputs": [
    {
     "data": {
      "text/plain": [
       "str"
      ]
     },
     "execution_count": 8,
     "metadata": {},
     "output_type": "execute_result"
    }
   ],
   "source": [
    "type(a)"
   ]
  },
  {
   "cell_type": "code",
   "execution_count": 15,
   "id": "8c8bed78",
   "metadata": {},
   "outputs": [
    {
     "name": "stdout",
     "output_type": "stream",
     "text": [
      "5 8 4\n",
      "1\n",
      "1\n",
      "0\n",
      "0\n"
     ]
    }
   ],
   "source": [
    "a,b,c = map(int, input().split())\n",
    "print((a+b) % c)\n",
    "print((a%c) + (b%c)%c)\n",
    "print((a*b) % c)\n",
    "print((a%c) * (b%c)%c)"
   ]
  },
  {
   "cell_type": "code",
   "execution_count": 14,
   "id": "bcd8979c",
   "metadata": {},
   "outputs": [
    {
     "name": "stdout",
     "output_type": "stream",
     "text": [
      "5 6 7\n"
     ]
    }
   ],
   "source": [
    "print(a,b,c)"
   ]
  },
  {
   "cell_type": "code",
   "execution_count": 17,
   "id": "6bd63383",
   "metadata": {
    "scrolled": true
   },
   "outputs": [
    {
     "name": "stdout",
     "output_type": "stream",
     "text": [
      "324 125\n"
     ]
    }
   ],
   "source": [
    "a,b = input().split()"
   ]
  },
  {
   "cell_type": "code",
   "execution_count": 30,
   "id": "a384788e",
   "metadata": {},
   "outputs": [],
   "source": [
    "a = int(a)"
   ]
  },
  {
   "cell_type": "code",
   "execution_count": 28,
   "id": "0a6a2ee1",
   "metadata": {},
   "outputs": [
    {
     "data": {
      "text/plain": [
       "['1', '2', '5']"
      ]
     },
     "execution_count": 28,
     "metadata": {},
     "output_type": "execute_result"
    }
   ],
   "source": [
    "list(b)"
   ]
  },
  {
   "cell_type": "code",
   "execution_count": 31,
   "id": "8fdddb33",
   "metadata": {},
   "outputs": [
    {
     "data": {
      "text/plain": [
       "1620"
      ]
     },
     "execution_count": 31,
     "metadata": {},
     "output_type": "execute_result"
    }
   ],
   "source": [
    "a * int(b[2])"
   ]
  },
  {
   "cell_type": "code",
   "execution_count": 37,
   "id": "20e94785",
   "metadata": {},
   "outputs": [
    {
     "name": "stdout",
     "output_type": "stream",
     "text": [
      "456\n",
      "321\n",
      "456\n",
      "912\n",
      "1368\n",
      "2736\n"
     ]
    }
   ],
   "source": [
    "a = int(input())\n",
    "b = input()\n",
    "num3 = (a * int(b[2]))\n",
    "num4 = (a * int(b[1]))\n",
    "num5 = (a * int(b[0]))\n",
    "num6 = num3 + num4 + num5\n",
    "print(num3,num4,num5,num6, sep=\"\\n\")"
   ]
  },
  {
   "cell_type": "code",
   "execution_count": null,
   "id": "88e11c93",
   "metadata": {},
   "outputs": [],
   "source": [
    "num1 = int(input())\n",
    "num2 = int(input())\n",
    "\n",
    "print(num1 * (num2%10))\n",
    "print(num1 * ((num2%100)//10))\n",
    "print(num1 * (num2//100))\n",
    "print(num1 * num2)"
   ]
  },
  {
   "cell_type": "code",
   "execution_count": null,
   "id": "9211d143",
   "metadata": {},
   "outputs": [],
   "source": [
    "n = int(input())\n",
    "m = input()\n",
    "\n",
    "for i in m[::-1]:\n",
    "    print(n*int(i))\n",
    "print(n*int(m))"
   ]
  }
 ],
 "metadata": {
  "kernelspec": {
   "display_name": "Python 3",
   "language": "python",
   "name": "python3"
  },
  "language_info": {
   "codemirror_mode": {
    "name": "ipython",
    "version": 3
   },
   "file_extension": ".py",
   "mimetype": "text/x-python",
   "name": "python",
   "nbconvert_exporter": "python",
   "pygments_lexer": "ipython3",
   "version": "3.8.8"
  }
 },
 "nbformat": 4,
 "nbformat_minor": 5
}
